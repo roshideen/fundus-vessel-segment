{
 "cells": [
  {
   "cell_type": "code",
   "execution_count": 1,
   "metadata": {
    "colab": {
     "base_uri": "https://localhost:8080/",
     "height": 358
    },
    "colab_type": "code",
    "executionInfo": {
     "elapsed": 1069,
     "status": "ok",
     "timestamp": 1599817008547,
     "user": {
      "displayName": "KRIRKWIT TEERAVAJANADET",
      "photoUrl": "",
      "userId": "07659115074469011100"
     },
     "user_tz": -420
    },
    "id": "SQQLTZZDhjWN",
    "outputId": "9eebd857-03ec-4ad9-cf45-793ed01a8a2d"
   },
   "outputs": [
    {
     "name": "stdout",
     "output_type": "stream",
     "text": [
      "Fri Sep 11 09:36:48 2020       \n",
      "+-----------------------------------------------------------------------------+\n",
      "| NVIDIA-SMI 450.66       Driver Version: 418.67       CUDA Version: 10.1     |\n",
      "|-------------------------------+----------------------+----------------------+\n",
      "| GPU  Name        Persistence-M| Bus-Id        Disp.A | Volatile Uncorr. ECC |\n",
      "| Fan  Temp  Perf  Pwr:Usage/Cap|         Memory-Usage | GPU-Util  Compute M. |\n",
      "|                               |                      |               MIG M. |\n",
      "|===============================+======================+======================|\n",
      "|   0  Tesla V100-SXM2...  Off  | 00000000:00:04.0 Off |                    0 |\n",
      "| N/A   34C    P0    23W / 300W |      0MiB / 16130MiB |      0%      Default |\n",
      "|                               |                      |                 ERR! |\n",
      "+-------------------------------+----------------------+----------------------+\n",
      "                                                                               \n",
      "+-----------------------------------------------------------------------------+\n",
      "| Processes:                                                                  |\n",
      "|  GPU   GI   CI        PID   Type   Process name                  GPU Memory |\n",
      "|        ID   ID                                                   Usage      |\n",
      "|=============================================================================|\n",
      "|  No running processes found                                                 |\n",
      "+-----------------------------------------------------------------------------+\n"
     ]
    }
   ],
   "source": [
    "gpu_info = !nvidia-smi\n",
    "gpu_info = '\\n'.join(gpu_info)\n",
    "if gpu_info.find('failed') >= 0:\n",
    "  print('Select the Runtime > \"Change runtime type\" menu to enable a GPU accelerator, ')\n",
    "  print('and then re-execute this cell.')\n",
    "else:\n",
    "  print(gpu_info)"
   ]
  },
  {
   "cell_type": "code",
   "execution_count": 1,
   "metadata": {
    "colab": {
     "base_uri": "https://localhost:8080/",
     "height": 34
    },
    "colab_type": "code",
    "executionInfo": {
     "elapsed": 1137,
     "status": "ok",
     "timestamp": 1599817210160,
     "user": {
      "displayName": "KRIRKWIT TEERAVAJANADET",
      "photoUrl": "",
      "userId": "07659115074469011100"
     },
     "user_tz": -420
    },
    "id": "9oxLGAqL03JG",
    "outputId": "e8023722-d7e0-4e0d-92b9-34ed8452f349"
   },
   "outputs": [
    {
     "name": "stdout",
     "output_type": "stream",
     "text": [
      "Drive already mounted at /content/drive; to attempt to forcibly remount, call drive.mount(\"/content/drive\", force_remount=True).\n"
     ]
    }
   ],
   "source": [
    " from google.colab import drive\n",
    "drive.mount('/content/drive')"
   ]
  },
  {
   "cell_type": "code",
   "execution_count": 2,
   "metadata": {
    "colab": {
     "base_uri": "https://localhost:8080/",
     "height": 307
    },
    "colab_type": "code",
    "executionInfo": {
     "elapsed": 1827,
     "status": "ok",
     "timestamp": 1599817214250,
     "user": {
      "displayName": "KRIRKWIT TEERAVAJANADET",
      "photoUrl": "",
      "userId": "07659115074469011100"
     },
     "user_tz": -420
    },
    "id": "RW6BvW74hyTr",
    "outputId": "ccfa1d32-2e6e-4c80-e018-d2dc2b0aa5ed"
   },
   "outputs": [
    {
     "name": "stderr",
     "output_type": "stream",
     "text": [
      "Using TensorFlow backend.\n",
      "/usr/local/lib/python3.6/dist-packages/tensorflow/python/framework/dtypes.py:469: FutureWarning: Passing (type, 1) or '1type' as a synonym of type is deprecated; in a future version of numpy, it will be understood as (type, (1,)) / '(1,)type'.\n",
      "  _np_qint8 = np.dtype([(\"qint8\", np.int8, 1)])\n",
      "/usr/local/lib/python3.6/dist-packages/tensorflow/python/framework/dtypes.py:470: FutureWarning: Passing (type, 1) or '1type' as a synonym of type is deprecated; in a future version of numpy, it will be understood as (type, (1,)) / '(1,)type'.\n",
      "  _np_quint8 = np.dtype([(\"quint8\", np.uint8, 1)])\n",
      "/usr/local/lib/python3.6/dist-packages/tensorflow/python/framework/dtypes.py:471: FutureWarning: Passing (type, 1) or '1type' as a synonym of type is deprecated; in a future version of numpy, it will be understood as (type, (1,)) / '(1,)type'.\n",
      "  _np_qint16 = np.dtype([(\"qint16\", np.int16, 1)])\n",
      "/usr/local/lib/python3.6/dist-packages/tensorflow/python/framework/dtypes.py:472: FutureWarning: Passing (type, 1) or '1type' as a synonym of type is deprecated; in a future version of numpy, it will be understood as (type, (1,)) / '(1,)type'.\n",
      "  _np_quint16 = np.dtype([(\"quint16\", np.uint16, 1)])\n",
      "/usr/local/lib/python3.6/dist-packages/tensorflow/python/framework/dtypes.py:473: FutureWarning: Passing (type, 1) or '1type' as a synonym of type is deprecated; in a future version of numpy, it will be understood as (type, (1,)) / '(1,)type'.\n",
      "  _np_qint32 = np.dtype([(\"qint32\", np.int32, 1)])\n",
      "/usr/local/lib/python3.6/dist-packages/tensorflow/python/framework/dtypes.py:476: FutureWarning: Passing (type, 1) or '1type' as a synonym of type is deprecated; in a future version of numpy, it will be understood as (type, (1,)) / '(1,)type'.\n",
      "  np_resource = np.dtype([(\"resource\", np.ubyte, 1)])\n",
      "/usr/lib/python3.6/importlib/_bootstrap.py:219: RuntimeWarning: compiletime version 3.5 of module 'tensorflow.python.framework.fast_tensor_util' does not match runtime version 3.6\n",
      "  return f(*args, **kwds)\n"
     ]
    },
    {
     "name": "stdout",
     "output_type": "stream",
     "text": [
      "1.2.2\n",
      "1.4.0\n"
     ]
    }
   ],
   "source": [
    "import keras\n",
    "print(keras.__version__)\n",
    "import tensorflow as tf\n",
    "print(tf.__version__)"
   ]
  },
  {
   "cell_type": "code",
   "execution_count": 4,
   "metadata": {
    "colab": {
     "base_uri": "https://localhost:8080/",
     "height": 460
    },
    "colab_type": "code",
    "executionInfo": {
     "elapsed": 5515,
     "status": "ok",
     "timestamp": 1599817122403,
     "user": {
      "displayName": "KRIRKWIT TEERAVAJANADET",
      "photoUrl": "",
      "userId": "07659115074469011100"
     },
     "user_tz": -420
    },
    "id": "cPGx_BdK_LT8",
    "outputId": "3d66a14a-16cb-4c2c-f56a-705183151ace"
   },
   "outputs": [
    {
     "name": "stdout",
     "output_type": "stream",
     "text": [
      "Collecting keras==1.2.2\n",
      "\u001b[?25l  Downloading https://files.pythonhosted.org/packages/75/3e/9926ce5c678b7a7978724a2ecf24857d89a415d152b8d3443e6d45c228b2/Keras-1.2.2.tar.gz (175kB)\n",
      "\r",
      "\u001b[K     |█▉                              | 10kB 23.0MB/s eta 0:00:01\r",
      "\u001b[K     |███▊                            | 20kB 6.3MB/s eta 0:00:01\r",
      "\u001b[K     |█████▋                          | 30kB 7.5MB/s eta 0:00:01\r",
      "\u001b[K     |███████▌                        | 40kB 8.3MB/s eta 0:00:01\r",
      "\u001b[K     |█████████▍                      | 51kB 7.2MB/s eta 0:00:01\r",
      "\u001b[K     |███████████▏                    | 61kB 8.2MB/s eta 0:00:01\r",
      "\u001b[K     |█████████████                   | 71kB 8.3MB/s eta 0:00:01\r",
      "\u001b[K     |███████████████                 | 81kB 8.6MB/s eta 0:00:01\r",
      "\u001b[K     |████████████████▉               | 92kB 8.9MB/s eta 0:00:01\r",
      "\u001b[K     |██████████████████▊             | 102kB 9.4MB/s eta 0:00:01\r",
      "\u001b[K     |████████████████████▌           | 112kB 9.4MB/s eta 0:00:01\r",
      "\u001b[K     |██████████████████████▍         | 122kB 9.4MB/s eta 0:00:01\r",
      "\u001b[K     |████████████████████████▎       | 133kB 9.4MB/s eta 0:00:01\r",
      "\u001b[K     |██████████████████████████▏     | 143kB 9.4MB/s eta 0:00:01\r",
      "\u001b[K     |████████████████████████████    | 153kB 9.4MB/s eta 0:00:01\r",
      "\u001b[K     |█████████████████████████████▉  | 163kB 9.4MB/s eta 0:00:01\r",
      "\u001b[K     |███████████████████████████████▊| 174kB 9.4MB/s eta 0:00:01\r",
      "\u001b[K     |████████████████████████████████| 184kB 9.4MB/s \n",
      "\u001b[?25hRequirement already satisfied: theano in /usr/local/lib/python3.6/dist-packages (from keras==1.2.2) (1.0.5)\n",
      "Requirement already satisfied: pyyaml in /usr/local/lib/python3.6/dist-packages (from keras==1.2.2) (3.13)\n",
      "Requirement already satisfied: six in /usr/local/lib/python3.6/dist-packages (from keras==1.2.2) (1.15.0)\n",
      "Requirement already satisfied: numpy>=1.9.1 in /usr/local/lib/python3.6/dist-packages (from theano->keras==1.2.2) (1.18.5)\n",
      "Requirement already satisfied: scipy>=0.14 in /usr/local/lib/python3.6/dist-packages (from theano->keras==1.2.2) (1.4.1)\n",
      "Building wheels for collected packages: keras\n",
      "  Building wheel for keras (setup.py) ... \u001b[?25l\u001b[?25hdone\n",
      "  Created wheel for keras: filename=Keras-1.2.2-cp36-none-any.whl size=209603 sha256=b16b4f398c7e8d2840c5f467b9a7511bb847fec20ce0fb1eb6e20eff73906a2d\n",
      "  Stored in directory: /root/.cache/pip/wheels/55/07/cf/b32db0a8d243b2fd6759d5d7cb650aa20670b2b740209cbf7e\n",
      "Successfully built keras\n",
      "\u001b[31mERROR: textgenrnn 1.4.1 has requirement keras>=2.1.5, but you'll have keras 1.2.2 which is incompatible.\u001b[0m\n",
      "\u001b[31mERROR: kapre 0.1.3.1 has requirement keras>=2.0.0, but you'll have keras 1.2.2 which is incompatible.\u001b[0m\n",
      "\u001b[31mERROR: fancyimpute 0.4.3 has requirement keras>=2.0.0, but you'll have keras 1.2.2 which is incompatible.\u001b[0m\n",
      "Installing collected packages: keras\n",
      "  Found existing installation: Keras 2.4.3\n",
      "    Uninstalling Keras-2.4.3:\n",
      "      Successfully uninstalled Keras-2.4.3\n",
      "Successfully installed keras-1.2.2\n"
     ]
    },
    {
     "data": {
      "application/vnd.colab-display-data+json": {
       "pip_warning": {
        "packages": [
         "keras"
        ]
       }
      }
     },
     "metadata": {
      "tags": []
     },
     "output_type": "display_data"
    }
   ],
   "source": [
    "!pip install keras==1.2.2"
   ]
  },
  {
   "cell_type": "code",
   "execution_count": 5,
   "metadata": {
    "colab": {
     "base_uri": "https://localhost:8080/",
     "height": 768
    },
    "colab_type": "code",
    "executionInfo": {
     "elapsed": 40489,
     "status": "ok",
     "timestamp": 1599817169075,
     "user": {
      "displayName": "KRIRKWIT TEERAVAJANADET",
      "photoUrl": "",
      "userId": "07659115074469011100"
     },
     "user_tz": -420
    },
    "id": "Cldhp0zrAHtc",
    "outputId": "646a8764-2567-4e74-a79d-fd1f824fe139"
   },
   "outputs": [
    {
     "name": "stdout",
     "output_type": "stream",
     "text": [
      "Collecting tensorflow==1.4\n",
      "\u001b[?25l  Downloading https://files.pythonhosted.org/packages/86/9f/be0165c6eefd841e6928e54d3d083fa174f92d640fdc52f73a33dc9c54d1/tensorflow-1.4.0-cp36-cp36m-manylinux1_x86_64.whl (41.2MB)\n",
      "\u001b[K     |████████████████████████████████| 41.2MB 73kB/s \n",
      "\u001b[?25hRequirement already satisfied: protobuf>=3.3.0 in /usr/local/lib/python3.6/dist-packages (from tensorflow==1.4) (3.12.4)\n",
      "Requirement already satisfied: six>=1.10.0 in /usr/local/lib/python3.6/dist-packages (from tensorflow==1.4) (1.15.0)\n",
      "Collecting enum34>=1.1.6\n",
      "  Downloading https://files.pythonhosted.org/packages/63/f6/ccb1c83687756aeabbf3ca0f213508fcfb03883ff200d201b3a4c60cedcc/enum34-1.1.10-py3-none-any.whl\n",
      "Requirement already satisfied: wheel>=0.26 in /usr/local/lib/python3.6/dist-packages (from tensorflow==1.4) (0.35.1)\n",
      "Collecting tensorflow-tensorboard<0.5.0,>=0.4.0rc1\n",
      "\u001b[?25l  Downloading https://files.pythonhosted.org/packages/e9/9f/5845c18f9df5e7ea638ecf3a272238f0e7671e454faa396b5188c6e6fc0a/tensorflow_tensorboard-0.4.0-py3-none-any.whl (1.7MB)\n",
      "\u001b[K     |████████████████████████████████| 1.7MB 59.6MB/s \n",
      "\u001b[?25hRequirement already satisfied: numpy>=1.12.1 in /usr/local/lib/python3.6/dist-packages (from tensorflow==1.4) (1.18.5)\n",
      "Requirement already satisfied: setuptools in /usr/local/lib/python3.6/dist-packages (from protobuf>=3.3.0->tensorflow==1.4) (49.6.0)\n",
      "Collecting bleach==1.5.0\n",
      "  Downloading https://files.pythonhosted.org/packages/33/70/86c5fec937ea4964184d4d6c4f0b9551564f821e1c3575907639036d9b90/bleach-1.5.0-py2.py3-none-any.whl\n",
      "Collecting html5lib==0.9999999\n",
      "\u001b[?25l  Downloading https://files.pythonhosted.org/packages/ae/ae/bcb60402c60932b32dfaf19bb53870b29eda2cd17551ba5639219fb5ebf9/html5lib-0.9999999.tar.gz (889kB)\n",
      "\u001b[K     |████████████████████████████████| 890kB 53.8MB/s \n",
      "\u001b[?25hRequirement already satisfied: markdown>=2.6.8 in /usr/local/lib/python3.6/dist-packages (from tensorflow-tensorboard<0.5.0,>=0.4.0rc1->tensorflow==1.4) (3.2.2)\n",
      "Requirement already satisfied: werkzeug>=0.11.10 in /usr/local/lib/python3.6/dist-packages (from tensorflow-tensorboard<0.5.0,>=0.4.0rc1->tensorflow==1.4) (1.0.1)\n",
      "Requirement already satisfied: importlib-metadata; python_version < \"3.8\" in /usr/local/lib/python3.6/dist-packages (from markdown>=2.6.8->tensorflow-tensorboard<0.5.0,>=0.4.0rc1->tensorflow==1.4) (1.7.0)\n",
      "Requirement already satisfied: zipp>=0.5 in /usr/local/lib/python3.6/dist-packages (from importlib-metadata; python_version < \"3.8\"->markdown>=2.6.8->tensorflow-tensorboard<0.5.0,>=0.4.0rc1->tensorflow==1.4) (3.1.0)\n",
      "Building wheels for collected packages: html5lib\n",
      "  Building wheel for html5lib (setup.py) ... \u001b[?25l\u001b[?25hdone\n",
      "  Created wheel for html5lib: filename=html5lib-0.9999999-cp36-none-any.whl size=107220 sha256=5ba7133866715353a63dcb3ae8f342c9c1f35519cb4aa74105924fc095b9ad23\n",
      "  Stored in directory: /root/.cache/pip/wheels/50/ae/f9/d2b189788efcf61d1ee0e36045476735c838898eef1cad6e29\n",
      "Successfully built html5lib\n",
      "\u001b[31mERROR: fancyimpute 0.4.3 has requirement keras>=2.0.0, but you'll have keras 1.2.2 which is incompatible.\u001b[0m\n",
      "Installing collected packages: enum34, html5lib, bleach, tensorflow-tensorboard, tensorflow\n",
      "  Found existing installation: html5lib 1.0.1\n",
      "    Uninstalling html5lib-1.0.1:\n",
      "      Successfully uninstalled html5lib-1.0.1\n",
      "  Found existing installation: bleach 3.1.5\n",
      "    Uninstalling bleach-3.1.5:\n",
      "      Successfully uninstalled bleach-3.1.5\n",
      "  Found existing installation: tensorflow 2.3.0\n",
      "    Uninstalling tensorflow-2.3.0:\n",
      "      Successfully uninstalled tensorflow-2.3.0\n",
      "Successfully installed bleach-1.5.0 enum34-1.1.10 html5lib-0.9999999 tensorflow-1.4.0 tensorflow-tensorboard-0.4.0\n"
     ]
    },
    {
     "data": {
      "application/vnd.colab-display-data+json": {
       "pip_warning": {
        "packages": [
         "enum",
         "tensorboard",
         "tensorflow"
        ]
       }
      }
     },
     "metadata": {
      "tags": []
     },
     "output_type": "display_data"
    }
   ],
   "source": [
    "!pip install tensorflow==1.4"
   ]
  },
  {
   "cell_type": "code",
   "execution_count": 3,
   "metadata": {
    "colab": {
     "base_uri": "https://localhost:8080/",
     "height": 51
    },
    "colab_type": "code",
    "executionInfo": {
     "elapsed": 1011,
     "status": "ok",
     "timestamp": 1599817225502,
     "user": {
      "displayName": "KRIRKWIT TEERAVAJANADET",
      "photoUrl": "",
      "userId": "07659115074469011100"
     },
     "user_tz": -420
    },
    "id": "sQTpI0HY1F_Z",
    "outputId": "7981a23e-7a6a-4444-d61d-9e6ee8a72448"
   },
   "outputs": [
    {
     "name": "stderr",
     "output_type": "stream",
     "text": [
      "/usr/local/lib/python3.6/dist-packages/IPython/html.py:14: ShimWarning: The `IPython.html` package has been deprecated since IPython 4.0. You should import from `notebook` instead. `IPython.html.widgets` has moved to `ipywidgets`.\n",
      "  \"`IPython.html.widgets` has moved to `ipywidgets`.\", ShimWarning)\n"
     ]
    }
   ],
   "source": [
    "import numpy as np\n",
    "\n",
    "from PIL import Image\n",
    "from IPython.html.widgets import interact\n",
    "from sklearn.metrics import roc_auc_score\n",
    "from keras.callbacks import ModelCheckpoint, EarlyStopping\n",
    "\n",
    "import matplotlib.pyplot as plt"
   ]
  },
  {
   "cell_type": "code",
   "execution_count": 16,
   "metadata": {
    "colab": {},
    "colab_type": "code",
    "executionInfo": {
     "elapsed": 1589,
     "status": "ok",
     "timestamp": 1599817401223,
     "user": {
      "displayName": "KRIRKWIT TEERAVAJANADET",
      "photoUrl": "",
      "userId": "07659115074469011100"
     },
     "user_tz": -420
    },
    "id": "2kox4pSo245-"
   },
   "outputs": [],
   "source": [
    "import os\n",
    "import random\n",
    "import cv2"
   ]
  },
  {
   "cell_type": "code",
   "execution_count": 5,
   "metadata": {
    "colab": {},
    "colab_type": "code",
    "executionInfo": {
     "elapsed": 740,
     "status": "ok",
     "timestamp": 1599817230982,
     "user": {
      "displayName": "KRIRKWIT TEERAVAJANADET",
      "photoUrl": "",
      "userId": "07659115074469011100"
     },
     "user_tz": -420
    },
    "id": "NO8FFC_32l5Z"
   },
   "outputs": [],
   "source": [
    "from keras.preprocessing.image import ImageDataGenerator, load_img, img_to_array"
   ]
  },
  {
   "cell_type": "code",
   "execution_count": 14,
   "metadata": {
    "colab": {},
    "colab_type": "code",
    "executionInfo": {
     "elapsed": 1076,
     "status": "ok",
     "timestamp": 1599817340640,
     "user": {
      "displayName": "KRIRKWIT TEERAVAJANADET",
      "photoUrl": "",
      "userId": "07659115074469011100"
     },
     "user_tz": -420
    },
    "id": "UAgUjh-qASs8"
   },
   "outputs": [],
   "source": [
    "def resize_img(im_pth,grayscale,desired_size = 512 ):\n",
    "  im = Image.open(im_pth)\n",
    "  old_size = im.size  # old_size[0] is in (width, height) format\n",
    "  im = cv2.imread(im_pth)\n",
    "  if grayscale:\n",
    "    im = cv2.cvtColor(im,cv2.COLOR_BGR2RGB)\n",
    "  old_size = im.shape[:2] # old_size is in (height, width) format\n",
    "  ratio = float(desired_size)/max(old_size)\n",
    "  new_size = tuple([int(x*ratio) for x in old_size])\n",
    "\n",
    "  # new_size should be in (width, height) format\n",
    "  im = cv2.resize(im, (new_size[1], new_size[0])) \n",
    "\n",
    "  delta_w = desired_size - new_size[1]\n",
    "  delta_h = desired_size - new_size[0]\n",
    "  top, bottom = delta_h//2, delta_h-(delta_h//2)\n",
    "  left, right = delta_w//2, delta_w-(delta_w//2)\n",
    "\n",
    "  color = [0, 0, 0]\n",
    "  new_im = cv2.copyMakeBorder(im, top, bottom, left, right, cv2.BORDER_CONSTANT,\n",
    "      value=color)\n",
    "  return new_im"
   ]
  },
  {
   "cell_type": "code",
   "execution_count": 6,
   "metadata": {
    "colab": {},
    "colab_type": "code",
    "executionInfo": {
     "elapsed": 1096,
     "status": "ok",
     "timestamp": 1599817248513,
     "user": {
      "displayName": "KRIRKWIT TEERAVAJANADET",
      "photoUrl": "",
      "userId": "07659115074469011100"
     },
     "user_tz": -420
    },
    "id": "uqRQ0c3xId9K"
   },
   "outputs": [],
   "source": [
    "def load_dataset(data_dir='data', color_mode='rgb', target_size=(512, 512)):\n",
    "    \"\"\"Load dataset into memory.\"\"\"\n",
    "    imgs = []\n",
    "    y = []\n",
    "\n",
    "    classes = os.listdir(data_dir)\n",
    "    classes.sort()\n",
    "    for i, c in enumerate(classes):\n",
    "        c_imgs = os.listdir(os.path.join(data_dir, c))\n",
    "        imgs.extend([os.path.join(data_dir, c, c_img) for c_img in c_imgs])\n",
    "        y.extend([i]*len(c_imgs))\n",
    "\n",
    "    N = len(imgs)\n",
    "    idx = np.arange(N)\n",
    "    random.shuffle(idx)\n",
    "\n",
    "    imgs = np.array(imgs)\n",
    "    y = np.array(y, dtype=np.int8)\n",
    "\n",
    "    imgs = imgs[idx]\n",
    "    y = y[idx]\n",
    "\n",
    "    grayscale = False\n",
    "    channels = 3\n",
    "    if color_mode == 'grayscale':\n",
    "        grayscale = True\n",
    "        channels = 1\n",
    "\n",
    "    # X = np.zeros((N, channels) + target_size, dtype=np.float32)\n",
    "    X = np.zeros((N,) + target_size+(channels,), dtype=np.float32)\n",
    "    for i, img_path in enumerate(imgs):\n",
    "        # print(img_path)\n",
    "        if 'bad' in img_path:\n",
    "          img = resize_img(img_path,desired_size=512,grayscale=grayscale)\n",
    "          img = cv2.cvtColor(img,cv2.COLOR_BGR2RGB)\n",
    "          # img = np.moveaxis(img,-1,0)\n",
    "        else:\n",
    "          img = load_img(img_path, grayscale=grayscale, target_size=target_size)\n",
    "          # img = img_to_array(img)\n",
    "          # img = np.moveaxis(img,-1,0)\n",
    "\n",
    "        X[i] = img_to_array(img)\n",
    "\n",
    "    return X, y"
   ]
  },
  {
   "cell_type": "code",
   "execution_count": 7,
   "metadata": {
    "colab": {},
    "colab_type": "code",
    "executionInfo": {
     "elapsed": 993,
     "status": "ok",
     "timestamp": 1599817257873,
     "user": {
      "displayName": "KRIRKWIT TEERAVAJANADET",
      "photoUrl": "",
      "userId": "07659115074469011100"
     },
     "user_tz": -420
    },
    "id": "bjAMlWdJ2Zm2"
   },
   "outputs": [],
   "source": [
    "def get_data_iterators(horizontal_flip=True, vertical_flip=True, width_shift_range=0.15,\n",
    "                       height_shift_range=0.15, rotation_range=45, zoom_range=0.15,\n",
    "                       batch_size=1, data_dir='data', target_size=(512, 512),\n",
    "                       samplewise_center=False, samplewise_std_normalization=False,\n",
    "                       fill_mode='constant', rescale=None, load_train_data=True,\n",
    "                       color_mode='rgb'):\n",
    "    \"\"\"Create data iterator.\"\"\"\n",
    "    aug_gen = ImageDataGenerator(horizontal_flip=horizontal_flip, vertical_flip=vertical_flip,\n",
    "                                 width_shift_range=width_shift_range, height_shift_range=height_shift_range,\n",
    "                                 rotation_range=rotation_range, zoom_range=zoom_range,\n",
    "                                 samplewise_std_normalization=samplewise_std_normalization,\n",
    "                                 samplewise_center=samplewise_center, fill_mode=fill_mode,\n",
    "                                 rescale=rescale)\n",
    "    data_gen = ImageDataGenerator(samplewise_std_normalization=samplewise_std_normalization,\n",
    "                                  samplewise_center=samplewise_center, rescale=rescale)\n",
    "\n",
    "    if load_train_data:\n",
    "        X_train, y_train = load_dataset(data_dir=os.path.join(data_dir, 'train'), target_size=target_size,\n",
    "                                        color_mode=color_mode)\n",
    "        train_it = aug_gen.flow(X_train, y_train, batch_size=batch_size)\n",
    "    else:\n",
    "        train_it = aug_gen.flow_from_directory(os.path.join(data_dir, 'train'),\n",
    "                                               batch_size=batch_size, target_size=target_size,\n",
    "                                               class_mode='binary', color_mode=color_mode)\n",
    "\n",
    "    if load_train_data:\n",
    "        X_val, y_val = load_dataset(data_dir=os.path.join(data_dir, 'val'), target_size=target_size,\n",
    "                                    color_mode=color_mode)\n",
    "        val_it = data_gen.flow(X_val, y_val, batch_size=batch_size, shuffle=False)\n",
    "    else:\n",
    "        val_it = data_gen.flow_from_directory(os.path.join(data_dir, 'val'),\n",
    "                                              batch_size=batch_size, target_size=target_size,\n",
    "                                              class_mode='binary', color_mode=color_mode)\n",
    "\n",
    "    if load_train_data:\n",
    "        X_test, y_test = load_dataset(data_dir=os.path.join(data_dir, 'test'), target_size=target_size,\n",
    "                                    color_mode=color_mode)\n",
    "        test_it = data_gen.flow(X_test, y_test, batch_size=batch_size, shuffle=True)\n",
    "    else:\n",
    "        test_it = data_gen.flow_from_directory(os.path.join(data_dir, 'test'),\n",
    "                                           batch_size=batch_size, target_size=target_size,\n",
    "                                           class_mode='binary', color_mode=color_mode,\n",
    "                                           shuffle=True)\n",
    "\n",
    "    return train_it, val_it, test_it"
   ]
  },
  {
   "cell_type": "code",
   "execution_count": 148,
   "metadata": {
    "colab": {},
    "colab_type": "code",
    "executionInfo": {
     "elapsed": 984,
     "status": "ok",
     "timestamp": 1599810415530,
     "user": {
      "displayName": "KRIRKWIT TEERAVAJANADET",
      "photoUrl": "",
      "userId": "07659115074469011100"
     },
     "user_tz": -420
    },
    "id": "HpucbNMR2Zgm"
   },
   "outputs": [],
   "source": []
  },
  {
   "cell_type": "code",
   "execution_count": 8,
   "metadata": {
    "colab": {},
    "colab_type": "code",
    "executionInfo": {
     "elapsed": 1175,
     "status": "ok",
     "timestamp": 1599817261678,
     "user": {
      "displayName": "KRIRKWIT TEERAVAJANADET",
      "photoUrl": "",
      "userId": "07659115074469011100"
     },
     "user_tz": -420
    },
    "id": "ugezhEmp4XIl"
   },
   "outputs": [],
   "source": [
    "from keras.models import Model\n",
    "from keras.optimizers import Adam\n",
    "from keras.layers import Input, Flatten\n",
    "from keras.regularizers import WeightRegularizer\n",
    "from keras.layers.convolutional import Convolution2D\n",
    "from keras.layers.advanced_activations import LeakyReLU\n",
    "from keras.layers.normalization import BatchNormalization\n",
    "from keras.layers.pooling import MaxPooling2D, AveragePooling2D\n",
    "\n",
    "# from utils.layers import WeightedAveragePooling, SWAP"
   ]
  },
  {
   "cell_type": "code",
   "execution_count": 10,
   "metadata": {
    "colab": {},
    "colab_type": "code",
    "executionInfo": {
     "elapsed": 1026,
     "status": "ok",
     "timestamp": 1599817308982,
     "user": {
      "displayName": "KRIRKWIT TEERAVAJANADET",
      "photoUrl": "",
      "userId": "07659115074469011100"
     },
     "user_tz": -420
    },
    "id": "oO015SdA-4oY"
   },
   "outputs": [],
   "source": [
    "import numpy as np\n",
    "\n",
    "from keras import activations\n",
    "from keras import constraints\n",
    "from keras import regularizers\n",
    "from keras import initializations\n",
    "from keras.engine import Layer, InputSpec\n",
    "\n",
    "from keras import backend as K\n",
    "\n",
    "\n",
    "class WeightedAveragePooling(Layer):\n",
    "\n",
    "    def __init__(self, shape, **kwargs):\n",
    "        self.shape = shape\n",
    "        super(WeightedAveragePooling, self).__init__(**kwargs)\n",
    "\n",
    "    def build(self, input_shape):\n",
    "        init = initializations.get('one')\n",
    "        self.alpha = self.add_weight(shape=self.shape, initializer=init,\n",
    "                                     name='alpha')\n",
    "\n",
    "    def call(self, x, mask=None):\n",
    "        alpha_sig = K.abs(self.alpha)\n",
    "        alpha_batch = K.repeat_elements(alpha_sig, K.shape(x)[0], 0)\n",
    "        normed_x = x * alpha_batch\n",
    "        sum_x = K.expand_dims(K.sum(normed_x, axis=(1, 2, 3)))\n",
    "        sum_alpha = K.expand_dims(K.sum(alpha_batch, axis=(1, 2, 3)))\n",
    "        return sum_x / (sum_alpha + K.epsilon())\n",
    "\n",
    "    def get_output_shape_for(self, input_shape):\n",
    "        return (input_shape[0], 1)\n",
    "\n",
    "    def get_config(self):\n",
    "        config = {\n",
    "            'shape': self.shape,\n",
    "        }\n",
    "        base_config = super(WeightedAveragePooling, self).get_config()\n",
    "        return dict(list(base_config.items()) + list(config.items()))\n",
    "\n",
    "\n",
    "class SWAP(Layer):\n",
    "\n",
    "    def __init__(self, output_dim, init='glorot_uniform',\n",
    "                 activation=None, weights=None,\n",
    "                 W_regularizer=None, b_regularizer=None, activity_regularizer=None,\n",
    "                 W_constraint=None, b_constraint=None,\n",
    "                 bias=True, input_dim=None, **kwargs):\n",
    "        self.init = initializations.get(init)\n",
    "        self.activation = activations.get(activation)\n",
    "        self.output_dim = output_dim\n",
    "        self.input_dim = input_dim\n",
    "\n",
    "        self.W_regularizer = regularizers.get(W_regularizer)\n",
    "        self.b_regularizer = regularizers.get(b_regularizer)\n",
    "        self.activity_regularizer = regularizers.get(activity_regularizer)\n",
    "\n",
    "        self.W_constraint = constraints.get(W_constraint)\n",
    "        self.b_constraint = constraints.get(b_constraint)\n",
    "\n",
    "        self.bias = bias\n",
    "        self.initial_weights = weights\n",
    "        self.input_spec = [InputSpec(ndim='2+')]\n",
    "\n",
    "        if self.input_dim:\n",
    "            kwargs['input_shape'] = (self.input_dim,)\n",
    "        super(SWAP, self).__init__(**kwargs)\n",
    "\n",
    "    def build(self, input_shape):\n",
    "        assert len(input_shape) >= 2\n",
    "        input_dim = input_shape[-1]\n",
    "        self.input_dim = input_dim\n",
    "        self.input_spec = [InputSpec(dtype=K.floatx(),\n",
    "                                     ndim='2+')]\n",
    "\n",
    "        self.W = self.add_weight((input_dim, self.output_dim),\n",
    "                                 initializer=self.init,\n",
    "                                 name='{}_W'.format(self.name),\n",
    "                                 regularizer=self.W_regularizer,\n",
    "                                 constraint=self.W_constraint)\n",
    "        if self.bias:\n",
    "            self.b = self.add_weight((self.output_dim,),\n",
    "                                     initializer='zero',\n",
    "                                     name='{}_b'.format(self.name),\n",
    "                                     regularizer=self.b_regularizer,\n",
    "                                     constraint=self.b_constraint)\n",
    "            w, b = self.get_weights()\n",
    "            w = w / np.sum(np.absolute(w))\n",
    "            self.set_weights([w, b])\n",
    "        else:\n",
    "            self.b = None\n",
    "\n",
    "        if self.initial_weights is not None:\n",
    "            self.set_weights(self.initial_weights)\n",
    "            del self.initial_weights\n",
    "        self.built = True\n",
    "\n",
    "    def call(self, x, mask=None):\n",
    "        output = K.dot(x, K.abs(self.W))\n",
    "        if self.bias:\n",
    "            output -= 0.5 * np.ones((1,))\n",
    "            output += self.b\n",
    "        return self.activation(output)\n",
    "\n",
    "    def get_output_shape_for(self, input_shape):\n",
    "        assert input_shape and len(input_shape) >= 2\n",
    "        assert input_shape[-1] and input_shape[-1] == self.input_dim\n",
    "        output_shape = list(input_shape)\n",
    "        output_shape[-1] = self.output_dim\n",
    "        return tuple(output_shape)\n",
    "\n",
    "    def get_config(self):\n",
    "        config = {'output_dim': self.output_dim,\n",
    "                  'init': self.init.__name__,\n",
    "                  'activation': self.activation.__name__,\n",
    "                  'W_regularizer': self.W_regularizer.get_config() if self.W_regularizer else None,\n",
    "                  'b_regularizer': self.b_regularizer.get_config() if self.b_regularizer else None,\n",
    "                  'activity_regularizer': self.activity_regularizer.get_config() if self.activity_regularizer else None,\n",
    "                  'W_constraint': self.W_constraint.get_config() if self.W_constraint else None,\n",
    "                  'b_constraint': self.b_constraint.get_config() if self.b_constraint else None,\n",
    "                  'bias': self.bias,\n",
    "                  'input_dim': self.input_dim}\n",
    "        base_config = super(SWAP, self).get_config()\n",
    "        return dict(list(base_config.items()) + list(config.items()))"
   ]
  },
  {
   "cell_type": "code",
   "execution_count": 11,
   "metadata": {
    "colab": {},
    "colab_type": "code",
    "executionInfo": {
     "elapsed": 1028,
     "status": "ok",
     "timestamp": 1599817310699,
     "user": {
      "displayName": "KRIRKWIT TEERAVAJANADET",
      "photoUrl": "",
      "userId": "07659115074469011100"
     },
     "user_tz": -420
    },
    "id": "SDZVoUap2ZZJ"
   },
   "outputs": [],
   "source": [
    "def Convolution(f, k=3, s=2, border_mode='same', **kwargs):\n",
    "    \"\"\"Convenience method for Convolutions.\"\"\"\n",
    "    return Convolution2D(f, k, k, border_mode=border_mode, subsample=(s, s), **kwargs)\n",
    "\n",
    "\n",
    "def BatchNorm(mode=2, axis=1, **kwargs):\n",
    "    \"\"\"Convenience method for BatchNormalization layers.\"\"\"\n",
    "    return BatchNormalization(mode=mode, axis=axis, **kwargs)\n",
    "\n",
    "\n",
    "def ConvBlock(i, nf, k=3, s=1, border_mode='same', maxpool=True, norm=True, **kwargs):\n",
    "    \"\"\"A Conv-Pool-LeakyRelu-Batchnorm block.\"\"\"\n",
    "    x = Convolution(nf, k=k, s=s, border_mode=border_mode, **kwargs)(i)\n",
    "    if maxpool:\n",
    "        # print(x.shape)\n",
    "        x = MaxPooling2D((2, 2))(x)\n",
    "\n",
    "    x = LeakyReLU(0.02)(x)\n",
    "\n",
    "    if norm:\n",
    "        x = BatchNorm()(x)\n",
    "\n",
    "    # print(x.shape)\n",
    "    return x\n",
    "\n",
    "\n",
    "def micnn(nf, input_size=512, n_blocks=4):\n",
    "    \"\"\"\n",
    "    The micnn model.\n",
    "    The model extracts features from the input. Then we just need to run a\n",
    "    1x1 Convolution on top of these features to get a heatmap.\n",
    "    \"\"\"\n",
    "    # img = Input(shape=(3,) + (input_size, input_size))\n",
    "    input_shape = (input_size,input_size,3)\n",
    "    img = Input(shape=input_shape)\n",
    "\n",
    "    ###########################################################################\n",
    "    #                           MAIN NETWORK DEFINITION                       #\n",
    "    ###########################################################################\n",
    "    xi = img\n",
    "    # print(n_blocks)\n",
    "    for i in range(n_blocks):\n",
    "        nfi = nf * 2**i\n",
    "        # print(i,xi.shape,nfi)\n",
    "        if nfi > nf * 8:\n",
    "            nfi = nf * 8\n",
    "\n",
    "        xi = ConvBlock(xi, nfi, maxpool=True, norm=True)\n",
    "    ###########################################################################\n",
    "    #                           FINAL CLASSIFICATIONS                         #\n",
    "    ###########################################################################\n",
    "    xi = ConvBlock(xi, nfi, k=1, s=1, maxpool=False)\n",
    "\n",
    "    return img, xi\n",
    "\n",
    "\n",
    "def get_out_size(input_size, n_blocks):\n",
    "    return input_size / (2**n_blocks)\n",
    "\n",
    "\n",
    "def quality_assessment(nf, l2=0, input_size=512, n_blocks=4, lr=2e-4,\n",
    "                       pooling='SWAP', pooling_wreg=1, pooling_breg=1e-1):\n",
    "    \"\"\"EyeQual implementation.\"\"\"\n",
    "    out_size = get_out_size(input_size, n_blocks)\n",
    "    img, xi = micnn(nf, input_size=input_size, n_blocks=n_blocks)\n",
    "    quality_map = Convolution(1, k=1, s=1, activation='sigmoid')(xi)\n",
    "\n",
    "    if pooling == 'SWAP':\n",
    "        out = Flatten()(quality_map)\n",
    "        out = SWAP(1, activation='sigmoid', W_regularizer=WeightRegularizer(l2=pooling_wreg),\n",
    "                   init='one', b_regularizer=WeightRegularizer(l2=pooling_breg),\n",
    "                   name='pool')(out)\n",
    "    elif pooling == 'WAP':\n",
    "        out = WeightedAveragePooling((1, 1, out_size, out_size), name='pool')(quality_map)\n",
    "    elif pooling == 'AP':\n",
    "        out = AveragePooling2D((out_size, out_size))(quality_map)\n",
    "        out = Flatten()(out)\n",
    "    elif pooling == 'MP':\n",
    "        out = MaxPooling2D((out_size, out_size))(quality_map)\n",
    "        out = Flatten()(out)\n",
    "\n",
    "    quality_model = Model(img, quality_map)\n",
    "    model = Model(img, out)\n",
    "\n",
    "    opt = Adam(lr=lr)\n",
    "    model.compile(optimizer=opt, loss='binary_crossentropy', metrics=['accuracy'])\n",
    "\n",
    "    return model, quality_model"
   ]
  },
  {
   "cell_type": "code",
   "execution_count": 14,
   "metadata": {
    "colab": {},
    "colab_type": "code",
    "executionInfo": {
     "elapsed": 966,
     "status": "ok",
     "timestamp": 1599792694256,
     "user": {
      "displayName": "KRIRKWIT TEERAVAJANADET",
      "photoUrl": "",
      "userId": "07659115074469011100"
     },
     "user_tz": -420
    },
    "id": "c_oZMzu72Yk-"
   },
   "outputs": [],
   "source": []
  },
  {
   "cell_type": "code",
   "execution_count": 12,
   "metadata": {
    "colab": {},
    "colab_type": "code",
    "executionInfo": {
     "elapsed": 1320,
     "status": "ok",
     "timestamp": 1599817319723,
     "user": {
      "displayName": "KRIRKWIT TEERAVAJANADET",
      "photoUrl": "",
      "userId": "07659115074469011100"
     },
     "user_tz": -420
    },
    "id": "0hM3hpjd1olP"
   },
   "outputs": [],
   "source": [
    "batch_size = 8\n",
    "load_data = True\n",
    "weak_dir = '/content/drive/My Drive/CMKL/datasets/quality'\n",
    "epochs =5\n",
    "\n",
    "\"\"\"\n",
    "Dataset augmentation's parameters\n",
    "\"\"\"\n",
    "aug_params = {'horizontal_flip': True,\n",
    "              'vertical_flip': True,\n",
    "              'width_shift_range': 0.05, \n",
    "              'height_shift_range': 0.05, \n",
    "              'rotation_range': 360, \n",
    "              'zoom_range': 0.02}\n",
    "\n",
    "\"\"\"\n",
    "Model parameter's definition\n",
    "\"\"\"\n",
    "nf = 64\n",
    "n_blocks = 4\n",
    "input_size = 512\n",
    "pooling_wreg = 1e-2\n",
    "pooling_breg = 1e-3\n",
    "lr = 2e-4\n",
    "\n",
    "\"\"\"\n",
    "Callbacks' definition\n",
    "\"\"\"\n",
    "experiment_path = \"/content/drive/My Drive/CMKL/datasets/quality/experiments/GAP.hdf5\"\n",
    "patience = 0\n",
    "checkpointer = ModelCheckpoint(filepath=experiment_path, verbose=1, \n",
    "                               save_best_only=True, save_weights_only=False)\n",
    "callbacks = [checkpointer]"
   ]
  },
  {
   "cell_type": "code",
   "execution_count": 17,
   "metadata": {
    "colab": {},
    "colab_type": "code",
    "executionInfo": {
     "elapsed": 34702,
     "status": "ok",
     "timestamp": 1599817441148,
     "user": {
      "displayName": "KRIRKWIT TEERAVAJANADET",
      "photoUrl": "",
      "userId": "07659115074469011100"
     },
     "user_tz": -420
    },
    "id": "m9o3AILX2Mym"
   },
   "outputs": [],
   "source": [
    "flag_resize_train,flag_resize_val,flag_resize_test = False,False,False\n",
    "train_it, val_it, test_it = get_data_iterators(batch_size=batch_size, data_dir=weak_dir, \n",
    "                                                     target_size=(512, 512), samplewise_center=False, \n",
    "                                                     samplewise_std_normalization=False, rescale=1/255., \n",
    "                                                     fill_mode='constant', load_train_data=load_data, \n",
    "                                                     color_mode='rgb', **aug_params)"
   ]
  },
  {
   "cell_type": "code",
   "execution_count": 18,
   "metadata": {
    "colab": {},
    "colab_type": "code",
    "executionInfo": {
     "elapsed": 1017,
     "status": "ok",
     "timestamp": 1599817461793,
     "user": {
      "displayName": "KRIRKWIT TEERAVAJANADET",
      "photoUrl": "",
      "userId": "07659115074469011100"
     },
     "user_tz": -420
    },
    "id": "Dr54ejF92w7-"
   },
   "outputs": [],
   "source": [
    "eyequal, heatmap = quality_assessment(nf, input_size=input_size, n_blocks=n_blocks, lr=lr, \n",
    "                                             pooling_wreg=pooling_wreg, pooling_breg=pooling_breg)"
   ]
  },
  {
   "cell_type": "code",
   "execution_count": 19,
   "metadata": {
    "colab": {},
    "colab_type": "code",
    "executionInfo": {
     "elapsed": 1153,
     "status": "ok",
     "timestamp": 1599817470616,
     "user": {
      "displayName": "KRIRKWIT TEERAVAJANADET",
      "photoUrl": "",
      "userId": "07659115074469011100"
     },
     "user_tz": -420
    },
    "id": "Q8ToaHK1SaJY"
   },
   "outputs": [],
   "source": [
    "# eyequal.summary()"
   ]
  },
  {
   "cell_type": "code",
   "execution_count": 20,
   "metadata": {
    "colab": {
     "base_uri": "https://localhost:8080/",
     "height": 290
    },
    "colab_type": "code",
    "executionInfo": {
     "elapsed": 1034800,
     "status": "ok",
     "timestamp": 1599818509632,
     "user": {
      "displayName": "KRIRKWIT TEERAVAJANADET",
      "photoUrl": "",
      "userId": "07659115074469011100"
     },
     "user_tz": -420
    },
    "id": "NfKIAjp-_uWL",
    "outputId": "00dfa473-1bb6-41ec-cc02-25f4d9b8356c"
   },
   "outputs": [
    {
     "name": "stdout",
     "output_type": "stream",
     "text": [
      "Epoch 1/5\n",
      "40/45 [=========================>....] - ETA: 21s - loss: 0.6127 - acc: 0.7750Epoch 00000: val_loss improved from inf to 0.46074, saving model to /content/drive/My Drive/CMKL/datasets/quality/experiments/GAP.hdf5\n",
      "45/45 [==============================] - 207s - loss: 0.6000 - acc: 0.8000 - val_loss: 0.4607 - val_acc: 1.0000\n",
      "Epoch 2/5\n",
      "40/45 [=========================>....] - ETA: 21s - loss: 0.4434 - acc: 1.0000Epoch 00001: val_loss improved from 0.46074 to 0.33793, saving model to /content/drive/My Drive/CMKL/datasets/quality/experiments/GAP.hdf5\n",
      "45/45 [==============================] - 206s - loss: 0.4335 - acc: 1.0000 - val_loss: 0.3379 - val_acc: 1.0000\n",
      "Epoch 3/5\n",
      "40/45 [=========================>....] - ETA: 21s - loss: 0.3461 - acc: 1.0000Epoch 00002: val_loss improved from 0.33793 to 0.28150, saving model to /content/drive/My Drive/CMKL/datasets/quality/experiments/GAP.hdf5\n",
      "45/45 [==============================] - 206s - loss: 0.3304 - acc: 1.0000 - val_loss: 0.2815 - val_acc: 1.0000\n",
      "Epoch 4/5\n",
      "40/45 [=========================>....] - ETA: 21s - loss: 0.2854 - acc: 1.0000Epoch 00003: val_loss improved from 0.28150 to 0.23996, saving model to /content/drive/My Drive/CMKL/datasets/quality/experiments/GAP.hdf5\n",
      "45/45 [==============================] - 205s - loss: 0.2800 - acc: 1.0000 - val_loss: 0.2400 - val_acc: 1.0000\n",
      "Epoch 5/5\n",
      "40/45 [=========================>....] - ETA: 21s - loss: 0.2628 - acc: 1.0000Epoch 00004: val_loss improved from 0.23996 to 0.22580, saving model to /content/drive/My Drive/CMKL/datasets/quality/experiments/GAP.hdf5\n",
      "45/45 [==============================] - 206s - loss: 0.2577 - acc: 1.0000 - val_loss: 0.2258 - val_acc: 1.0000\n"
     ]
    },
    {
     "data": {
      "text/plain": [
       "<keras.callbacks.History at 0x7fdebe915160>"
      ]
     },
     "execution_count": 20,
     "metadata": {
      "tags": []
     },
     "output_type": "execute_result"
    }
   ],
   "source": [
    "eyequal.fit_generator(generator=train_it, samples_per_epoch=train_it.n, nb_epoch=epochs, validation_data=val_it, nb_val_samples=val_it.n,callbacks=callbacks,verbose=1)"
   ]
  },
  {
   "cell_type": "code",
   "execution_count": 21,
   "metadata": {
    "colab": {},
    "colab_type": "code",
    "executionInfo": {
     "elapsed": 12513,
     "status": "ok",
     "timestamp": 1599818890783,
     "user": {
      "displayName": "KRIRKWIT TEERAVAJANADET",
      "photoUrl": "",
      "userId": "07659115074469011100"
     },
     "user_tz": -420
    },
    "id": "t8yZpjSbosNj"
   },
   "outputs": [],
   "source": [
    "x, y = next(val_it)\n",
    "\n",
    "heat_pred = heatmap.predict(x)\n"
   ]
  },
  {
   "cell_type": "code",
   "execution_count": 23,
   "metadata": {
    "colab": {
     "base_uri": "https://localhost:8080/",
     "height": 1000,
     "referenced_widgets": [
      "6d6edbf84ddc4b49a0bac38b3f6f1e51",
      "3f4c07c5330b46698ca26c7725c71f9f",
      "75c3ed40fb4f4bc682d4de1e81efe6e8",
      "7742c6bd65cf4e59a54166ff83ac7159",
      "5e1f07ee789b47daa9505313894f329b",
      "a67fa76ae0f94ed8b7698634d2fa19ba",
      "c101bde4788e424088987808041e3f4f"
     ]
    },
    "colab_type": "code",
    "executionInfo": {
     "elapsed": 12418,
     "status": "ok",
     "timestamp": 1599818963179,
     "user": {
      "displayName": "KRIRKWIT TEERAVAJANADET",
      "photoUrl": "",
      "userId": "07659115074469011100"
     },
     "user_tz": -420
    },
    "id": "VDdN8-_0o0t4",
    "outputId": "11cc1cd6-f1e3-4c72-bd0b-81e48d991a27"
   },
   "outputs": [
    {
     "data": {
      "application/vnd.jupyter.widget-view+json": {
       "model_id": "6d6edbf84ddc4b49a0bac38b3f6f1e51",
       "version_major": 2,
       "version_minor": 0
      },
      "text/plain": [
       "interactive(children=(Dropdown(description='idx', options=(0, 1, 2, 3, 4, 5, 6, 7), value=0), Output()), _dom_…"
      ]
     },
     "metadata": {
      "tags": []
     },
     "output_type": "display_data"
    },
    {
     "data": {
      "image/png": "[encoded data removed]",
      "text/plain": [
       "<Figure size 1152x1512 with 1 Axes>"
      ]
     },
     "metadata": {
      "needs_background": "light",
      "tags": []
     },
     "output_type": "display_data"
    },
    {
     "data": {
      "image/png": "[encoded data removed]",
      "text/plain": [
       "<Figure size 1152x1512 with 1 Axes>"
      ]
     },
     "metadata": {
      "needs_background": "light",
      "tags": []
     },
     "output_type": "display_data"
    },
    {
     "data": {
      "image/png": "[encoded data removed]",
      "text/plain": [
       "<Figure size 1152x1512 with 1 Axes>"
      ]
     },
     "metadata": {
      "needs_background": "light",
      "tags": []
     },
     "output_type": "display_data"
    },
    {
     "data": {
      "image/png": "[encoded data removed]",
      "text/plain": [
       "<Figure size 1152x1512 with 1 Axes>"
      ]
     },
     "metadata": {
      "needs_background": "light",
      "tags": []
     },
     "output_type": "display_data"
    }
   ],
   "source": [
    "def plot_figs(idx=0):\n",
    "    print(y)\n",
    "    print('Pred = {0}; GT = {1}'.format(eyequal.predict(x)[idx], y[idx]))\n",
    "    \n",
    "    heat_pred_img = heat_pred[idx, 0]\n",
    "    x_plot = np.transpose(x[idx], (1, 2, 0))\n",
    "    \n",
    "    plt.figure(figsize=(16, 21))\n",
    "    \n",
    "    plt.subplot(1, 2, 1)\n",
    "    plt.title('Image')\n",
    "    plt.imshow(x_plot)\n",
    "    plt.axis('off')\n",
    "\n",
    "    plt.subplot(1, 2, 2)\n",
    "    plt.title('Quality Map')\n",
    "    plt.imshow(x_plot)\n",
    "    im = get_quality_map(heat_pred_img, n_blocks=n_blocks)\n",
    "    plt.imshow(im, alpha=0.5, vmin=0, vmax=1, cmap=parula_map)\n",
    "    plt.axis('off')\n",
    "    \n",
    "    plt.show()\n",
    "    \n",
    "interact(plot_figs, idx=range(batch_size));"
   ]
  },
  {
   "cell_type": "code",
   "execution_count": 24,
   "metadata": {
    "colab": {
     "base_uri": "https://localhost:8080/",
     "height": 34
    },
    "colab_type": "code",
    "executionInfo": {
     "elapsed": 1121,
     "status": "ok",
     "timestamp": 1599819236919,
     "user": {
      "displayName": "KRIRKWIT TEERAVAJANADET",
      "photoUrl": "",
      "userId": "07659115074469011100"
     },
     "user_tz": -420
    },
    "id": "usfvmamkqCey",
    "outputId": "089cd121-f701-4934-82cb-7a5fbb658b85"
   },
   "outputs": [
    {
     "data": {
      "text/plain": [
       "(7, 32, 32, 1)"
      ]
     },
     "execution_count": 24,
     "metadata": {
      "tags": []
     },
     "output_type": "execute_result"
    }
   ],
   "source": [
    "heat_pred.shape"
   ]
  },
  {
   "cell_type": "code",
   "execution_count": null,
   "metadata": {
    "colab": {},
    "colab_type": "code",
    "id": "IAxydA9dqCZU"
   },
   "outputs": [],
   "source": []
  },
  {
   "cell_type": "code",
   "execution_count": null,
   "metadata": {
    "colab": {},
    "colab_type": "code",
    "id": "TmSPZGV7qCUB"
   },
   "outputs": [],
   "source": []
  },
  {
   "cell_type": "code",
   "execution_count": null,
   "metadata": {
    "colab": {},
    "colab_type": "code",
    "id": "EePAGWBrqCOJ"
   },
   "outputs": [],
   "source": []
  },
  {
   "cell_type": "code",
   "execution_count": 228,
   "metadata": {
    "colab": {
     "base_uri": "https://localhost:8080/",
     "height": 34
    },
    "colab_type": "code",
    "executionInfo": {
     "elapsed": 1024,
     "status": "ok",
     "timestamp": 1599816253602,
     "user": {
      "displayName": "KRIRKWIT TEERAVAJANADET",
      "photoUrl": "",
      "userId": "07659115074469011100"
     },
     "user_tz": -420
    },
    "id": "vEeA5NL-eqk1",
    "outputId": "9dc58bd8-6075-4065-c911-8aa4ba5c1bbf"
   },
   "outputs": [
    {
     "data": {
      "text/plain": [
       "45"
      ]
     },
     "execution_count": 228,
     "metadata": {
      "tags": []
     },
     "output_type": "execute_result"
    }
   ],
   "source": [
    "Model.fit_generator()"
   ]
  },
  {
   "cell_type": "code",
   "execution_count": 152,
   "metadata": {
    "colab": {},
    "colab_type": "code",
    "executionInfo": {
     "elapsed": 1553,
     "status": "ok",
     "timestamp": 1599810460150,
     "user": {
      "displayName": "KRIRKWIT TEERAVAJANADET",
      "photoUrl": "",
      "userId": "07659115074469011100"
     },
     "user_tz": -420
    },
    "id": "3SrTCdDSdQ_b"
   },
   "outputs": [],
   "source": [
    "batchX,batchY = val_it.next()"
   ]
  },
  {
   "cell_type": "code",
   "execution_count": 153,
   "metadata": {
    "colab": {
     "base_uri": "https://localhost:8080/",
     "height": 34
    },
    "colab_type": "code",
    "executionInfo": {
     "elapsed": 1161,
     "status": "ok",
     "timestamp": 1599810464889,
     "user": {
      "displayName": "KRIRKWIT TEERAVAJANADET",
      "photoUrl": "",
      "userId": "07659115074469011100"
     },
     "user_tz": -420
    },
    "id": "JK1Ax1PRe0Sz",
    "outputId": "4d3c889f-97e6-4385-de82-082d05c1f9d7"
   },
   "outputs": [
    {
     "data": {
      "text/plain": [
       "((7, 512, 512, 3), (7,))"
      ]
     },
     "execution_count": 153,
     "metadata": {
      "tags": []
     },
     "output_type": "execute_result"
    }
   ],
   "source": [
    "batchX.shape,batchY.shape"
   ]
  },
  {
   "cell_type": "code",
   "execution_count": 156,
   "metadata": {
    "colab": {
     "base_uri": "https://localhost:8080/",
     "height": 303
    },
    "colab_type": "code",
    "executionInfo": {
     "elapsed": 1579,
     "status": "ok",
     "timestamp": 1599810476584,
     "user": {
      "displayName": "KRIRKWIT TEERAVAJANADET",
      "photoUrl": "",
      "userId": "07659115074469011100"
     },
     "user_tz": -420
    },
    "id": "S3m3W4LqfCXa",
    "outputId": "d1d1980d-fd19-44c5-904b-ae61cb267e80"
   },
   "outputs": [
    {
     "name": "stdout",
     "output_type": "stream",
     "text": [
      "(512, 512, 3) 0.0\n"
     ]
    },
    {
     "data": {
      "text/plain": [
       "<matplotlib.image.AxesImage at 0x7f98856aabe0>"
      ]
     },
     "execution_count": 156,
     "metadata": {
      "tags": []
     },
     "output_type": "execute_result"
    },
    {
     "data": {
      "image/png": "[encoded data removed]",
      "text/plain": [
       "<Figure size 432x288 with 1 Axes>"
      ]
     },
     "metadata": {
      "needs_background": "light",
      "tags": []
     },
     "output_type": "display_data"
    }
   ],
   "source": [
    "ix = 0\n",
    "x,y = batchX[ix,:,:,:],batchY[ix]\n",
    "print(x.shape,y)\n",
    "plt.imshow(x)"
   ]
  },
  {
   "cell_type": "code",
   "execution_count": 201,
   "metadata": {
    "colab": {
     "base_uri": "https://localhost:8080/",
     "height": 286
    },
    "colab_type": "code",
    "executionInfo": {
     "elapsed": 1305,
     "status": "ok",
     "timestamp": 1599812127866,
     "user": {
      "displayName": "KRIRKWIT TEERAVAJANADET",
      "photoUrl": "",
      "userId": "07659115074469011100"
     },
     "user_tz": -420
    },
    "id": "jn44iqJmdLB0",
    "outputId": "bb60af18-b2f9-4c25-ac08-d3aef5d30008"
   },
   "outputs": [
    {
     "data": {
      "text/plain": [
       "<matplotlib.image.AxesImage at 0x7f9885387128>"
      ]
     },
     "execution_count": 201,
     "metadata": {
      "tags": []
     },
     "output_type": "execute_result"
    },
    {
     "data": {
      "image/png": "[encoded data removed]",
      "text/plain": [
       "<Figure size 432x288 with 1 Axes>"
      ]
     },
     "metadata": {
      "needs_background": "light",
      "tags": []
     },
     "output_type": "display_data"
    }
   ],
   "source": [
    "img_path = '/content/drive/My Drive/CMKL/datasets/quality/train/bad/ebe4ae2e-bd5a-4ccf-bbc7-de4815807be4.17.png'\n",
    "new_img = resize_img(img_path,grayscale=False,desired_size=512)\n",
    "new_img = cv2.cvtColor(new_img,cv2.COLOR_BGR2RGB)\n",
    "plt.imshow(new_img)"
   ]
  },
  {
   "cell_type": "code",
   "execution_count": 175,
   "metadata": {
    "colab": {
     "base_uri": "https://localhost:8080/",
     "height": 51
    },
    "colab_type": "code",
    "executionInfo": {
     "elapsed": 989,
     "status": "ok",
     "timestamp": 1599811248910,
     "user": {
      "displayName": "KRIRKWIT TEERAVAJANADET",
      "photoUrl": "",
      "userId": "07659115074469011100"
     },
     "user_tz": -420
    },
    "id": "S2xJyOsYLTqq",
    "outputId": "0d042e10-166d-420a-ebd1-21006dba5930"
   },
   "outputs": [
    {
     "name": "stdout",
     "output_type": "stream",
     "text": [
      "(512, 512, 3)\n",
      "(3, 512, 512)\n"
     ]
    }
   ],
   "source": [
    "print(new_img.shape)\n",
    "new_img2 = np.moveaxis(new_img,-1,0)\n",
    "print(new_img2.shape)"
   ]
  },
  {
   "cell_type": "code",
   "execution_count": 169,
   "metadata": {
    "colab": {
     "base_uri": "https://localhost:8080/",
     "height": 921
    },
    "colab_type": "code",
    "executionInfo": {
     "elapsed": 1226,
     "status": "ok",
     "timestamp": 1599810996920,
     "user": {
      "displayName": "KRIRKWIT TEERAVAJANADET",
      "photoUrl": "",
      "userId": "07659115074469011100"
     },
     "user_tz": -420
    },
    "id": "fXckJXXtKnDg",
    "outputId": "568fd5ab-5be8-4649-9c28-ffef66cf2403"
   },
   "outputs": [
    {
     "name": "stdout",
     "output_type": "stream",
     "text": [
      "____________________________________________________________________________________________________\n",
      "Layer (type)                     Output Shape          Param #     Connected to                     \n",
      "====================================================================================================\n",
      "input_14 (InputLayer)            (None, 3, 512, 512)   0                                            \n",
      "____________________________________________________________________________________________________\n",
      "convolution2d_27 (Convolution2D) (None, 3, 512, 64)    294976      input_14[0][0]                   \n",
      "____________________________________________________________________________________________________\n",
      "maxpooling2d_23 (MaxPooling2D)   (None, 3, 256, 32)    0           convolution2d_27[0][0]           \n",
      "____________________________________________________________________________________________________\n",
      "leakyrelu_15 (LeakyReLU)         (None, 3, 256, 32)    0           maxpooling2d_23[0][0]            \n",
      "____________________________________________________________________________________________________\n",
      "batchnormalization_15 (BatchNorm (None, 3, 256, 32)    12          leakyrelu_15[0][0]               \n",
      "____________________________________________________________________________________________________\n",
      "convolution2d_28 (Convolution2D) (None, 3, 256, 128)   36992       batchnormalization_15[0][0]      \n",
      "____________________________________________________________________________________________________\n",
      "maxpooling2d_24 (MaxPooling2D)   (None, 3, 128, 64)    0           convolution2d_28[0][0]           \n",
      "____________________________________________________________________________________________________\n",
      "leakyrelu_16 (LeakyReLU)         (None, 3, 128, 64)    0           maxpooling2d_24[0][0]            \n",
      "____________________________________________________________________________________________________\n",
      "batchnormalization_16 (BatchNorm (None, 3, 128, 64)    12          leakyrelu_16[0][0]               \n",
      "____________________________________________________________________________________________________\n",
      "convolution2d_29 (Convolution2D) (None, 3, 128, 256)   147712      batchnormalization_16[0][0]      \n",
      "____________________________________________________________________________________________________\n",
      "maxpooling2d_25 (MaxPooling2D)   (None, 3, 64, 128)    0           convolution2d_29[0][0]           \n",
      "____________________________________________________________________________________________________\n",
      "leakyrelu_17 (LeakyReLU)         (None, 3, 64, 128)    0           maxpooling2d_25[0][0]            \n",
      "____________________________________________________________________________________________________\n",
      "batchnormalization_17 (BatchNorm (None, 3, 64, 128)    12          leakyrelu_17[0][0]               \n",
      "____________________________________________________________________________________________________\n",
      "convolution2d_30 (Convolution2D) (None, 3, 64, 512)    590336      batchnormalization_17[0][0]      \n",
      "____________________________________________________________________________________________________\n",
      "maxpooling2d_26 (MaxPooling2D)   (None, 3, 32, 256)    0           convolution2d_30[0][0]           \n",
      "____________________________________________________________________________________________________\n",
      "leakyrelu_18 (LeakyReLU)         (None, 3, 32, 256)    0           maxpooling2d_26[0][0]            \n",
      "____________________________________________________________________________________________________\n",
      "batchnormalization_18 (BatchNorm (None, 3, 32, 256)    12          leakyrelu_18[0][0]               \n",
      "____________________________________________________________________________________________________\n",
      "convolution2d_31 (Convolution2D) (None, 3, 32, 512)    131584      batchnormalization_18[0][0]      \n",
      "____________________________________________________________________________________________________\n",
      "leakyrelu_19 (LeakyReLU)         (None, 3, 32, 512)    0           convolution2d_31[0][0]           \n",
      "____________________________________________________________________________________________________\n",
      "batchnormalization_19 (BatchNorm (None, 3, 32, 512)    12          leakyrelu_19[0][0]               \n",
      "____________________________________________________________________________________________________\n",
      "convolution2d_32 (Convolution2D) (None, 3, 32, 1)      513         batchnormalization_19[0][0]      \n",
      "____________________________________________________________________________________________________\n",
      "flatten_2 (Flatten)              (None, 96)            0           convolution2d_32[0][0]           \n",
      "____________________________________________________________________________________________________\n",
      "pool (SWAP)                      (None, 1)             97          flatten_2[0][0]                  \n",
      "====================================================================================================\n",
      "Total params: 1,202,270\n",
      "Trainable params: 1,202,240\n",
      "Non-trainable params: 30\n",
      "____________________________________________________________________________________________________\n"
     ]
    }
   ],
   "source": [
    "\n",
    "eyequal.summary()"
   ]
  }
 ],
 "metadata": {
  "accelerator": "GPU",
  "colab": {
   "authorship_tag": "ABX9TyM5huzHAwNNeSRzjCfhtrJY",
   "collapsed_sections": [],
   "machine_shape": "hm",
   "name": "03_quality assessment.ipynb",
   "provenance": []
  },
  "kernelspec": {
   "display_name": "Python 3",
   "language": "python",
   "name": "python3"
  },
  "language_info": {
   "codemirror_mode": {
    "name": "ipython",
    "version": 3
   },
   "file_extension": ".py",
   "mimetype": "text/x-python",
   "name": "python",
   "nbconvert_exporter": "python",
   "pygments_lexer": "ipython3",
   "version": "3.7.4"
  },
  "widgets": {
   "application/vnd.jupyter.widget-state+json": {
    "3f4c07c5330b46698ca26c7725c71f9f": {
     "model_module": "@jupyter-widgets/base",
     "model_name": "LayoutModel",
     "state": {
      "_model_module": "@jupyter-widgets/base",
      "_model_module_version": "1.2.0",
      "_model_name": "LayoutModel",
      "_view_count": null,
      "_view_module": "@jupyter-widgets/base",
      "_view_module_version": "1.2.0",
      "_view_name": "LayoutView",
      "align_content": null,
      "align_items": null,
      "align_self": null,
      "border": null,
      "bottom": null,
      "display": null,
      "flex": null,
      "flex_flow": null,
      "grid_area": null,
      "grid_auto_columns": null,
      "grid_auto_flow": null,
      "grid_auto_rows": null,
      "grid_column": null,
      "grid_gap": null,
      "grid_row": null,
      "grid_template_areas": null,
      "grid_template_columns": null,
      "grid_template_rows": null,
      "height": null,
      "justify_content": null,
      "justify_items": null,
      "left": null,
      "margin": null,
      "max_height": null,
      "max_width": null,
      "min_height": null,
      "min_width": null,
      "object_fit": null,
      "object_position": null,
      "order": null,
      "overflow": null,
      "overflow_x": null,
      "overflow_y": null,
      "padding": null,
      "right": null,
      "top": null,
      "visibility": null,
      "width": null
     }
    },
    "5e1f07ee789b47daa9505313894f329b": {
     "model_module": "@jupyter-widgets/controls",
     "model_name": "DescriptionStyleModel",
     "state": {
      "_model_module": "@jupyter-widgets/controls",
      "_model_module_version": "1.5.0",
      "_model_name": "DescriptionStyleModel",
      "_view_count": null,
      "_view_module": "@jupyter-widgets/base",
      "_view_module_version": "1.2.0",
      "_view_name": "StyleView",
      "description_width": ""
     }
    },
    "6d6edbf84ddc4b49a0bac38b3f6f1e51": {
     "model_module": "@jupyter-widgets/controls",
     "model_name": "VBoxModel",
     "state": {
      "_dom_classes": [
       "widget-interact"
      ],
      "_model_module": "@jupyter-widgets/controls",
      "_model_module_version": "1.5.0",
      "_model_name": "VBoxModel",
      "_view_count": null,
      "_view_module": "@jupyter-widgets/controls",
      "_view_module_version": "1.5.0",
      "_view_name": "VBoxView",
      "box_style": "",
      "children": [
       "IPY_MODEL_75c3ed40fb4f4bc682d4de1e81efe6e8",
       "IPY_MODEL_7742c6bd65cf4e59a54166ff83ac7159"
      ],
      "layout": "IPY_MODEL_3f4c07c5330b46698ca26c7725c71f9f"
     }
    },
    "75c3ed40fb4f4bc682d4de1e81efe6e8": {
     "model_module": "@jupyter-widgets/controls",
     "model_name": "DropdownModel",
     "state": {
      "_dom_classes": [],
      "_model_module": "@jupyter-widgets/controls",
      "_model_module_version": "1.5.0",
      "_model_name": "DropdownModel",
      "_options_labels": [
       "0",
       "1",
       "2",
       "3",
       "4",
       "5",
       "6",
       "7"
      ],
      "_view_count": null,
      "_view_module": "@jupyter-widgets/controls",
      "_view_module_version": "1.5.0",
      "_view_name": "DropdownView",
      "description": "idx",
      "description_tooltip": null,
      "disabled": false,
      "index": 5,
      "layout": "IPY_MODEL_a67fa76ae0f94ed8b7698634d2fa19ba",
      "style": "IPY_MODEL_5e1f07ee789b47daa9505313894f329b"
     }
    },
    "7742c6bd65cf4e59a54166ff83ac7159": {
     "model_module": "@jupyter-widgets/output",
     "model_name": "OutputModel",
     "state": {
      "_dom_classes": [],
      "_model_module": "@jupyter-widgets/output",
      "_model_module_version": "1.0.0",
      "_model_name": "OutputModel",
      "_view_count": null,
      "_view_module": "@jupyter-widgets/output",
      "_view_module_version": "1.0.0",
      "_view_name": "OutputView",
      "layout": "IPY_MODEL_c101bde4788e424088987808041e3f4f",
      "msg_id": "",
      "outputs": [
       {
        "metadata": {
         "tags": []
        },
        "output_type": "stream",
        "stream": "stdout",
        "text": "[1 1 1 1 0 0 0]\n"
       },
       {
        "metadata": {
         "tags": []
        },
        "output_type": "stream",
        "stream": "stdout",
        "text": "Pred = [0.3775436]; GT = 0\n"
       },
       {
        "ename": "TypeError",
        "evalue": "ignored",
        "metadata": {
         "tags": []
        },
        "output_type": "pyerr",
        "traceback": [
         "\u001b[0;31m---------------------------------------------------------------------------\u001b[0m",
         "\u001b[0;31mTypeError\u001b[0m                                 Traceback (most recent call last)",
         "\u001b[0;32m/usr/local/lib/python3.6/dist-packages/ipywidgets/widgets/interaction.py\u001b[0m in \u001b[0;36mupdate\u001b[0;34m(self, *args)\u001b[0m\n\u001b[1;32m    254\u001b[0m                     \u001b[0mvalue\u001b[0m \u001b[0;34m=\u001b[0m \u001b[0mwidget\u001b[0m\u001b[0;34m.\u001b[0m\u001b[0mget_interact_value\u001b[0m\u001b[0;34m(\u001b[0m\u001b[0;34m)\u001b[0m\u001b[0;34m\u001b[0m\u001b[0;34m\u001b[0m\u001b[0m\n\u001b[1;32m    255\u001b[0m                     \u001b[0mself\u001b[0m\u001b[0;34m.\u001b[0m\u001b[0mkwargs\u001b[0m\u001b[0;34m[\u001b[0m\u001b[0mwidget\u001b[0m\u001b[0;34m.\u001b[0m\u001b[0m_kwarg\u001b[0m\u001b[0;34m]\u001b[0m \u001b[0;34m=\u001b[0m \u001b[0mvalue\u001b[0m\u001b[0;34m\u001b[0m\u001b[0;34m\u001b[0m\u001b[0m\n\u001b[0;32m--> 256\u001b[0;31m                 \u001b[0mself\u001b[0m\u001b[0;34m.\u001b[0m\u001b[0mresult\u001b[0m \u001b[0;34m=\u001b[0m \u001b[0mself\u001b[0m\u001b[0;34m.\u001b[0m\u001b[0mf\u001b[0m\u001b[0;34m(\u001b[0m\u001b[0;34m**\u001b[0m\u001b[0mself\u001b[0m\u001b[0;34m.\u001b[0m\u001b[0mkwargs\u001b[0m\u001b[0;34m)\u001b[0m\u001b[0;34m\u001b[0m\u001b[0;34m\u001b[0m\u001b[0m\n\u001b[0m\u001b[1;32m    257\u001b[0m                 \u001b[0mshow_inline_matplotlib_plots\u001b[0m\u001b[0;34m(\u001b[0m\u001b[0;34m)\u001b[0m\u001b[0;34m\u001b[0m\u001b[0;34m\u001b[0m\u001b[0m\n\u001b[1;32m    258\u001b[0m                 \u001b[0;32mif\u001b[0m \u001b[0mself\u001b[0m\u001b[0;34m.\u001b[0m\u001b[0mauto_display\u001b[0m \u001b[0;32mand\u001b[0m \u001b[0mself\u001b[0m\u001b[0;34m.\u001b[0m\u001b[0mresult\u001b[0m \u001b[0;32mis\u001b[0m \u001b[0;32mnot\u001b[0m \u001b[0;32mNone\u001b[0m\u001b[0;34m:\u001b[0m\u001b[0;34m\u001b[0m\u001b[0;34m\u001b[0m\u001b[0m\n",
         "\u001b[0;32m<ipython-input-23-36ab9c581b67>\u001b[0m in \u001b[0;36mplot_figs\u001b[0;34m(idx)\u001b[0m\n\u001b[1;32m     10\u001b[0m     \u001b[0mplt\u001b[0m\u001b[0;34m.\u001b[0m\u001b[0msubplot\u001b[0m\u001b[0;34m(\u001b[0m\u001b[0;36m1\u001b[0m\u001b[0;34m,\u001b[0m \u001b[0;36m2\u001b[0m\u001b[0;34m,\u001b[0m \u001b[0;36m1\u001b[0m\u001b[0;34m)\u001b[0m\u001b[0;34m\u001b[0m\u001b[0;34m\u001b[0m\u001b[0m\n\u001b[1;32m     11\u001b[0m     \u001b[0mplt\u001b[0m\u001b[0;34m.\u001b[0m\u001b[0mtitle\u001b[0m\u001b[0;34m(\u001b[0m\u001b[0;34m'Image'\u001b[0m\u001b[0;34m)\u001b[0m\u001b[0;34m\u001b[0m\u001b[0;34m\u001b[0m\u001b[0m\n\u001b[0;32m---> 12\u001b[0;31m     \u001b[0mplt\u001b[0m\u001b[0;34m.\u001b[0m\u001b[0mimshow\u001b[0m\u001b[0;34m(\u001b[0m\u001b[0mx_plot\u001b[0m\u001b[0;34m)\u001b[0m\u001b[0;34m\u001b[0m\u001b[0;34m\u001b[0m\u001b[0m\n\u001b[0m\u001b[1;32m     13\u001b[0m     \u001b[0mplt\u001b[0m\u001b[0;34m.\u001b[0m\u001b[0maxis\u001b[0m\u001b[0;34m(\u001b[0m\u001b[0;34m'off'\u001b[0m\u001b[0;34m)\u001b[0m\u001b[0;34m\u001b[0m\u001b[0;34m\u001b[0m\u001b[0m\n\u001b[1;32m     14\u001b[0m \u001b[0;34m\u001b[0m\u001b[0m\n",
         "\u001b[0;32m/usr/local/lib/python3.6/dist-packages/matplotlib/pyplot.py\u001b[0m in \u001b[0;36mimshow\u001b[0;34m(X, cmap, norm, aspect, interpolation, alpha, vmin, vmax, origin, extent, shape, filternorm, filterrad, imlim, resample, url, data, **kwargs)\u001b[0m\n\u001b[1;32m   2649\u001b[0m         \u001b[0mfilternorm\u001b[0m\u001b[0;34m=\u001b[0m\u001b[0mfilternorm\u001b[0m\u001b[0;34m,\u001b[0m \u001b[0mfilterrad\u001b[0m\u001b[0;34m=\u001b[0m\u001b[0mfilterrad\u001b[0m\u001b[0;34m,\u001b[0m \u001b[0mimlim\u001b[0m\u001b[0;34m=\u001b[0m\u001b[0mimlim\u001b[0m\u001b[0;34m,\u001b[0m\u001b[0;34m\u001b[0m\u001b[0;34m\u001b[0m\u001b[0m\n\u001b[1;32m   2650\u001b[0m         resample=resample, url=url, **({\"data\": data} if data is not\n\u001b[0;32m-> 2651\u001b[0;31m         None else {}), **kwargs)\n\u001b[0m\u001b[1;32m   2652\u001b[0m     \u001b[0msci\u001b[0m\u001b[0;34m(\u001b[0m\u001b[0m__ret\u001b[0m\u001b[0;34m)\u001b[0m\u001b[0;34m\u001b[0m\u001b[0;34m\u001b[0m\u001b[0m\n\u001b[1;32m   2653\u001b[0m     \u001b[0;32mreturn\u001b[0m \u001b[0m__ret\u001b[0m\u001b[0;34m\u001b[0m\u001b[0;34m\u001b[0m\u001b[0m\n",
         "\u001b[0;32m/usr/local/lib/python3.6/dist-packages/matplotlib/__init__.py\u001b[0m in \u001b[0;36minner\u001b[0;34m(ax, data, *args, **kwargs)\u001b[0m\n\u001b[1;32m   1563\u001b[0m     \u001b[0;32mdef\u001b[0m \u001b[0minner\u001b[0m\u001b[0;34m(\u001b[0m\u001b[0max\u001b[0m\u001b[0;34m,\u001b[0m \u001b[0;34m*\u001b[0m\u001b[0margs\u001b[0m\u001b[0;34m,\u001b[0m \u001b[0mdata\u001b[0m\u001b[0;34m=\u001b[0m\u001b[0;32mNone\u001b[0m\u001b[0;34m,\u001b[0m \u001b[0;34m**\u001b[0m\u001b[0mkwargs\u001b[0m\u001b[0;34m)\u001b[0m\u001b[0;34m:\u001b[0m\u001b[0;34m\u001b[0m\u001b[0;34m\u001b[0m\u001b[0m\n\u001b[1;32m   1564\u001b[0m         \u001b[0;32mif\u001b[0m \u001b[0mdata\u001b[0m \u001b[0;32mis\u001b[0m \u001b[0;32mNone\u001b[0m\u001b[0;34m:\u001b[0m\u001b[0;34m\u001b[0m\u001b[0;34m\u001b[0m\u001b[0m\n\u001b[0;32m-> 1565\u001b[0;31m             \u001b[0;32mreturn\u001b[0m \u001b[0mfunc\u001b[0m\u001b[0;34m(\u001b[0m\u001b[0max\u001b[0m\u001b[0;34m,\u001b[0m \u001b[0;34m*\u001b[0m\u001b[0mmap\u001b[0m\u001b[0;34m(\u001b[0m\u001b[0msanitize_sequence\u001b[0m\u001b[0;34m,\u001b[0m \u001b[0margs\u001b[0m\u001b[0;34m)\u001b[0m\u001b[0;34m,\u001b[0m \u001b[0;34m**\u001b[0m\u001b[0mkwargs\u001b[0m\u001b[0;34m)\u001b[0m\u001b[0;34m\u001b[0m\u001b[0;34m\u001b[0m\u001b[0m\n\u001b[0m\u001b[1;32m   1566\u001b[0m \u001b[0;34m\u001b[0m\u001b[0m\n\u001b[1;32m   1567\u001b[0m         \u001b[0mbound\u001b[0m \u001b[0;34m=\u001b[0m \u001b[0mnew_sig\u001b[0m\u001b[0;34m.\u001b[0m\u001b[0mbind\u001b[0m\u001b[0;34m(\u001b[0m\u001b[0max\u001b[0m\u001b[0;34m,\u001b[0m \u001b[0;34m*\u001b[0m\u001b[0margs\u001b[0m\u001b[0;34m,\u001b[0m \u001b[0;34m**\u001b[0m\u001b[0mkwargs\u001b[0m\u001b[0;34m)\u001b[0m\u001b[0;34m\u001b[0m\u001b[0;34m\u001b[0m\u001b[0m\n",
         "\u001b[0;32m/usr/local/lib/python3.6/dist-packages/matplotlib/cbook/deprecation.py\u001b[0m in \u001b[0;36mwrapper\u001b[0;34m(*args, **kwargs)\u001b[0m\n\u001b[1;32m    356\u001b[0m                 \u001b[0;34mf\"%(removal)s.  If any parameter follows {name!r}, they \"\u001b[0m\u001b[0;34m\u001b[0m\u001b[0;34m\u001b[0m\u001b[0m\n\u001b[1;32m    357\u001b[0m                 f\"should be pass as keyword, not positionally.\")\n\u001b[0;32m--> 358\u001b[0;31m         \u001b[0;32mreturn\u001b[0m \u001b[0mfunc\u001b[0m\u001b[0;34m(\u001b[0m\u001b[0;34m*\u001b[0m\u001b[0margs\u001b[0m\u001b[0;34m,\u001b[0m \u001b[0;34m**\u001b[0m\u001b[0mkwargs\u001b[0m\u001b[0;34m)\u001b[0m\u001b[0;34m\u001b[0m\u001b[0;34m\u001b[0m\u001b[0m\n\u001b[0m\u001b[1;32m    359\u001b[0m \u001b[0;34m\u001b[0m\u001b[0m\n\u001b[1;32m    360\u001b[0m     \u001b[0;32mreturn\u001b[0m \u001b[0mwrapper\u001b[0m\u001b[0;34m\u001b[0m\u001b[0;34m\u001b[0m\u001b[0m\n",
         "\u001b[0;32m/usr/local/lib/python3.6/dist-packages/matplotlib/cbook/deprecation.py\u001b[0m in \u001b[0;36mwrapper\u001b[0;34m(*args, **kwargs)\u001b[0m\n\u001b[1;32m    356\u001b[0m                 \u001b[0;34mf\"%(removal)s.  If any parameter follows {name!r}, they \"\u001b[0m\u001b[0;34m\u001b[0m\u001b[0;34m\u001b[0m\u001b[0m\n\u001b[1;32m    357\u001b[0m                 f\"should be pass as keyword, not positionally.\")\n\u001b[0;32m--> 358\u001b[0;31m         \u001b[0;32mreturn\u001b[0m \u001b[0mfunc\u001b[0m\u001b[0;34m(\u001b[0m\u001b[0;34m*\u001b[0m\u001b[0margs\u001b[0m\u001b[0;34m,\u001b[0m \u001b[0;34m**\u001b[0m\u001b[0mkwargs\u001b[0m\u001b[0;34m)\u001b[0m\u001b[0;34m\u001b[0m\u001b[0;34m\u001b[0m\u001b[0m\n\u001b[0m\u001b[1;32m    359\u001b[0m \u001b[0;34m\u001b[0m\u001b[0m\n\u001b[1;32m    360\u001b[0m     \u001b[0;32mreturn\u001b[0m \u001b[0mwrapper\u001b[0m\u001b[0;34m\u001b[0m\u001b[0;34m\u001b[0m\u001b[0m\n",
         "\u001b[0;32m/usr/local/lib/python3.6/dist-packages/matplotlib/axes/_axes.py\u001b[0m in \u001b[0;36mimshow\u001b[0;34m(self, X, cmap, norm, aspect, interpolation, alpha, vmin, vmax, origin, extent, shape, filternorm, filterrad, imlim, resample, url, **kwargs)\u001b[0m\n\u001b[1;32m   5624\u001b[0m                               resample=resample, **kwargs)\n\u001b[1;32m   5625\u001b[0m \u001b[0;34m\u001b[0m\u001b[0m\n\u001b[0;32m-> 5626\u001b[0;31m         \u001b[0mim\u001b[0m\u001b[0;34m.\u001b[0m\u001b[0mset_data\u001b[0m\u001b[0;34m(\u001b[0m\u001b[0mX\u001b[0m\u001b[0;34m)\u001b[0m\u001b[0;34m\u001b[0m\u001b[0;34m\u001b[0m\u001b[0m\n\u001b[0m\u001b[1;32m   5627\u001b[0m         \u001b[0mim\u001b[0m\u001b[0;34m.\u001b[0m\u001b[0mset_alpha\u001b[0m\u001b[0;34m(\u001b[0m\u001b[0malpha\u001b[0m\u001b[0;34m)\u001b[0m\u001b[0;34m\u001b[0m\u001b[0;34m\u001b[0m\u001b[0m\n\u001b[1;32m   5628\u001b[0m         \u001b[0;32mif\u001b[0m \u001b[0mim\u001b[0m\u001b[0;34m.\u001b[0m\u001b[0mget_clip_path\u001b[0m\u001b[0;34m(\u001b[0m\u001b[0;34m)\u001b[0m \u001b[0;32mis\u001b[0m \u001b[0;32mNone\u001b[0m\u001b[0;34m:\u001b[0m\u001b[0;34m\u001b[0m\u001b[0;34m\u001b[0m\u001b[0m\n",
         "\u001b[0;32m/usr/local/lib/python3.6/dist-packages/matplotlib/image.py\u001b[0m in \u001b[0;36mset_data\u001b[0;34m(self, A)\u001b[0m\n\u001b[1;32m    697\u001b[0m                 or self._A.ndim == 3 and self._A.shape[-1] in [3, 4]):\n\u001b[1;32m    698\u001b[0m             raise TypeError(\"Invalid shape {} for image data\"\n\u001b[0;32m--> 699\u001b[0;31m                             .format(self._A.shape))\n\u001b[0m\u001b[1;32m    700\u001b[0m \u001b[0;34m\u001b[0m\u001b[0m\n\u001b[1;32m    701\u001b[0m         \u001b[0;32mif\u001b[0m \u001b[0mself\u001b[0m\u001b[0;34m.\u001b[0m\u001b[0m_A\u001b[0m\u001b[0;34m.\u001b[0m\u001b[0mndim\u001b[0m \u001b[0;34m==\u001b[0m \u001b[0;36m3\u001b[0m\u001b[0;34m:\u001b[0m\u001b[0;34m\u001b[0m\u001b[0;34m\u001b[0m\u001b[0m\n",
         "\u001b[0;31mTypeError\u001b[0m: Invalid shape (512, 3, 512) for image data"
        ]
       }
      ]
     }
    },
    "a67fa76ae0f94ed8b7698634d2fa19ba": {
     "model_module": "@jupyter-widgets/base",
     "model_name": "LayoutModel",
     "state": {
      "_model_module": "@jupyter-widgets/base",
      "_model_module_version": "1.2.0",
      "_model_name": "LayoutModel",
      "_view_count": null,
      "_view_module": "@jupyter-widgets/base",
      "_view_module_version": "1.2.0",
      "_view_name": "LayoutView",
      "align_content": null,
      "align_items": null,
      "align_self": null,
      "border": null,
      "bottom": null,
      "display": null,
      "flex": null,
      "flex_flow": null,
      "grid_area": null,
      "grid_auto_columns": null,
      "grid_auto_flow": null,
      "grid_auto_rows": null,
      "grid_column": null,
      "grid_gap": null,
      "grid_row": null,
      "grid_template_areas": null,
      "grid_template_columns": null,
      "grid_template_rows": null,
      "height": null,
      "justify_content": null,
      "justify_items": null,
      "left": null,
      "margin": null,
      "max_height": null,
      "max_width": null,
      "min_height": null,
      "min_width": null,
      "object_fit": null,
      "object_position": null,
      "order": null,
      "overflow": null,
      "overflow_x": null,
      "overflow_y": null,
      "padding": null,
      "right": null,
      "top": null,
      "visibility": null,
      "width": null
     }
    },
    "c101bde4788e424088987808041e3f4f": {
     "model_module": "@jupyter-widgets/base",
     "model_name": "LayoutModel",
     "state": {
      "_model_module": "@jupyter-widgets/base",
      "_model_module_version": "1.2.0",
      "_model_name": "LayoutModel",
      "_view_count": null,
      "_view_module": "@jupyter-widgets/base",
      "_view_module_version": "1.2.0",
      "_view_name": "LayoutView",
      "align_content": null,
      "align_items": null,
      "align_self": null,
      "border": null,
      "bottom": null,
      "display": null,
      "flex": null,
      "flex_flow": null,
      "grid_area": null,
      "grid_auto_columns": null,
      "grid_auto_flow": null,
      "grid_auto_rows": null,
      "grid_column": null,
      "grid_gap": null,
      "grid_row": null,
      "grid_template_areas": null,
      "grid_template_columns": null,
      "grid_template_rows": null,
      "height": null,
      "justify_content": null,
      "justify_items": null,
      "left": null,
      "margin": null,
      "max_height": null,
      "max_width": null,
      "min_height": null,
      "min_width": null,
      "object_fit": null,
      "object_position": null,
      "order": null,
      "overflow": null,
      "overflow_x": null,
      "overflow_y": null,
      "padding": null,
      "right": null,
      "top": null,
      "visibility": null,
      "width": null
     }
    }
   }
  }
 },
 "nbformat": 4,
 "nbformat_minor": 1
}
